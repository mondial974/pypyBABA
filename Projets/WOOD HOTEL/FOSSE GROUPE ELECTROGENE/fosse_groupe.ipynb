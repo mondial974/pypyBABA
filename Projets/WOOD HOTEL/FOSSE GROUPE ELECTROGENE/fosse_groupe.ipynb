{
 "cells": [
  {
   "cell_type": "code",
   "execution_count": 6,
   "metadata": {},
   "outputs": [
    {
     "name": "stdout",
     "output_type": "stream",
     "text": [
      "d = 17 cm\n",
      "fctm = 2.56 MPa\n",
      "Asmin 1 = 2.27 cm2\n",
      "Asmin 2 = 2.21 cm2\n",
      "Asmin = 2.21 cm2\n"
     ]
    }
   ],
   "source": [
    "# Radier\n",
    "bw = 100 / 100 # cm > m\n",
    "h = 20 / 100 \n",
    "c = 3 / 100\n",
    "\n",
    "fck = 25 # MPa\n",
    "fyk = 500 # MPa\n",
    "\n",
    "d = h - c\n",
    "fctm = 0.3 * pow(fck, 2./3.)\n",
    "Asmin1 = 0.26 * fctm / fyk * bw * d\n",
    "Asmin2 = 0.0013 * bw * d\n",
    "Asmin = min([Asmin1, Asmin2])\n",
    "\n",
    "print(f'd = {d*100:.0f} cm')\n",
    "print(f'fctm = {fctm:.2f} MPa')\n",
    "print(f'Asmin 1 = {Asmin1*1e4:.2f} cm2')\n",
    "print(f'Asmin 2 = {Asmin2*1e4:.2f} cm2')\n",
    "print(f'Asmin = {Asmin*1e4:.2f} cm2')"
   ]
  },
  {
   "cell_type": "code",
   "execution_count": null,
   "metadata": {},
   "outputs": [],
   "source": [
    "# Paroi longeur 4.00 m\n",
    "\n",
    "# En tête\n",
    "Mu_xx = 0.27 / 100 # T.m > MN.m\n",
    "Nu_xx = 0.14 / 100 # T > MN  Traction\n",
    "\n"
   ]
  }
 ],
 "metadata": {
  "kernelspec": {
   "display_name": "Python 3",
   "language": "python",
   "name": "python3"
  },
  "language_info": {
   "codemirror_mode": {
    "name": "ipython",
    "version": 3
   },
   "file_extension": ".py",
   "mimetype": "text/x-python",
   "name": "python",
   "nbconvert_exporter": "python",
   "pygments_lexer": "ipython3",
   "version": "3.10.2"
  }
 },
 "nbformat": 4,
 "nbformat_minor": 2
}
