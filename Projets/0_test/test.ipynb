{
 "cells": [
  {
   "cell_type": "code",
   "execution_count": 2,
   "metadata": {},
   "outputs": [
    {
     "name": "stdout",
     "output_type": "stream",
     "text": [
      "                               Propriété  4.6  4.8  5.6  5.8  6.8  8.8  10.9\n",
      "Symbole                                                                     \n",
      "f_yb                 Limite d'élasticité  240  320  300  400  480  640   900\n",
      "f_ub     Résistance ultime à la traction  400  400  500  500  600  800  1000\n"
     ]
    },
    {
     "data": {
      "text/plain": [
       "480"
      ]
     },
     "execution_count": 2,
     "metadata": {},
     "output_type": "execute_result"
    }
   ],
   "source": [
    "import pandas as pd\n",
    "\n",
    "df = pd.read_excel(\"D:\\pypyBABA\\pyEurocode3\\EC3_bdd_classe_boulon.xlsx\", index_col='Symbole')\n",
    "print(df)\n",
    "\n",
    "df.at[\"f_yb\", \"6.8\"]"
   ]
  }
 ],
 "metadata": {
  "kernelspec": {
   "display_name": "Python 3",
   "language": "python",
   "name": "python3"
  },
  "language_info": {
   "codemirror_mode": {
    "name": "ipython",
    "version": 3
   },
   "file_extension": ".py",
   "mimetype": "text/x-python",
   "name": "python",
   "nbconvert_exporter": "python",
   "pygments_lexer": "ipython3",
   "version": "3.10.2"
  }
 },
 "nbformat": 4,
 "nbformat_minor": 2
}
