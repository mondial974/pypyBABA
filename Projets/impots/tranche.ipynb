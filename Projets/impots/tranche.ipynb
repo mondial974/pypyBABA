{
 "cells": [
  {
   "cell_type": "code",
   "execution_count": 16,
   "metadata": {},
   "outputs": [],
   "source": [
    "import numpy as np\n",
    "import matplotlib.pyplot as plt"
   ]
  },
  {
   "cell_type": "code",
   "execution_count": 17,
   "metadata": {},
   "outputs": [],
   "source": [
    "T0 = 0.\n",
    "\n",
    "T1 = 11294.\n",
    "P1 = 0. / 100.\n",
    "\n",
    "T2 = 28797.\n",
    "P2 = 11. / 100.\n",
    "\n",
    "T3 = 82341.\n",
    "P3 = 30. / 100.\n",
    "\n",
    "T4 = 177106.\n",
    "P4 = 41. / 100.\n",
    "\n",
    "P5 = 45. / 100.\n",
    "\n",
    "def f1(x):\n",
    "    return (x - T0) * P1\n",
    "\n",
    "def f2(x):\n",
    "    impot = f1(T1) + (x - T1) * P2\n",
    "    return impot\n",
    "\n",
    "            \n",
    "def f3(x):\n",
    "    impot = f2(T2) + (x - T2) * P3\n",
    "    return impot\n",
    "\n",
    "def f4(x):\n",
    "    impot = f3(T3) + (x - T3) * P4\n",
    "    return impot\n",
    "\n",
    "def f5(x):\n",
    "    impot = f4(T4) + (x - T4) * P5\n",
    "    return impot\n",
    "\n",
    "def f(x):\n",
    "    if x <= T1:\n",
    "        impot = f1(x)\n",
    "        pourc = impot / x * 100\n",
    "        return pourc\n",
    "    \n",
    "    if x <= T2:\n",
    "        impot = f2(x)\n",
    "        pourc = impot / x * 100\n",
    "        return pourc\n",
    "    \n",
    "    if x <= T3:\n",
    "        impot = f3(x)\n",
    "        pourc = impot / x * 100\n",
    "        return pourc\n",
    "    \n",
    "    if x <= T4:\n",
    "        impot = f4(x)\n",
    "        pourc = impot / x * 100\n",
    "        return pourc\n",
    "    \n",
    "    if x > T4:\n",
    "        impot = f5(x)\n",
    "        pourc = impot / x * 100\n",
    "        return pourc"
   ]
  },
  {
   "cell_type": "code",
   "execution_count": 18,
   "metadata": {},
   "outputs": [],
   "source": [
    "xlist = np.linspace(1, 200000, 200)\n",
    "ylist = []\n",
    "\n",
    "for x in xlist:\n",
    "    ylist.append(f(x))"
   ]
  },
  {
   "cell_type": "code",
   "execution_count": 19,
   "metadata": {},
   "outputs": [
    {
     "data": {
      "text/plain": [
       "[<matplotlib.lines.Line2D at 0x21647051960>]"
      ]
     },
     "execution_count": 19,
     "metadata": {},
     "output_type": "execute_result"
    },
    {
     "data": {
      "image/png": "[encoded data removed]",
      "text/plain": [
       "<Figure size 600x400 with 1 Axes>"
      ]
     },
     "metadata": {
      "needs_background": "light"
     },
     "output_type": "display_data"
    }
   ],
   "source": [
    "plt.figure(num=0, dpi=100)\n",
    "plt.plot(xlist, ylist)"
   ]
  }
 ],
 "metadata": {
  "kernelspec": {
   "display_name": "Python 3",
   "language": "python",
   "name": "python3"
  },
  "language_info": {
   "codemirror_mode": {
    "name": "ipython",
    "version": 3
   },
   "file_extension": ".py",
   "mimetype": "text/x-python",
   "name": "python",
   "nbconvert_exporter": "python",
   "pygments_lexer": "ipython3",
   "version": "3.10.2"
  }
 },
 "nbformat": 4,
 "nbformat_minor": 2
}
