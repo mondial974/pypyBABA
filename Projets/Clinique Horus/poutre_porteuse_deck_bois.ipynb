{
 "cells": [
  {
   "cell_type": "code",
   "execution_count": 7,
   "metadata": {},
   "outputs": [],
   "source": [
    "import pandas as pd\n",
    "df = pd.read_excel(r\"D:\\pypyBABA\\pyEurocode5\\pyEC5_bdd_caracteristique_bois.xlsx\", index_col=\"Symbole\")"
   ]
  },
  {
   "cell_type": "markdown",
   "metadata": {},
   "source": [
    "# Données d'entrée"
   ]
  },
  {
   "cell_type": "code",
   "execution_count": 8,
   "metadata": {},
   "outputs": [],
   "source": [
    "######################################################\n",
    "# DONNEES D'ENTREE\n",
    "######################################################\n",
    "\n",
    "# Lame deck\n",
    "classe_resistance_lame = \"C24\"\n",
    "largeur_lame = 145. # mm\n",
    "hauteur_lame = 28. # mm\n",
    "\n",
    "# Solive\n",
    "classe_resistance_solive = \"C24\"\n",
    "largeur_solive = 58. # mm\n",
    "hauteur_solive = 168. # mm\n",
    "entre_axe_solive = 490. #  mm\n",
    "portee_solive = 3000 # mm\n",
    "\n",
    "# Poutre porteuse\n",
    "classe_resistance_porteuse = \"C24\"\n",
    "largeur_porteuse = 58 # mm\n",
    "hauteur_porteuse = 168 # mm\n",
    "portee_porteuse = 1700 # mm\n",
    "\n",
    "# Charge d'exploitation\n",
    "Q = 250 # daN/m2"
   ]
  },
  {
   "cell_type": "markdown",
   "metadata": {},
   "source": [
    "# Calculs"
   ]
  },
  {
   "cell_type": "markdown",
   "metadata": {},
   "source": [
    "## Calculs des paramètres intermédiaires"
   ]
  },
  {
   "cell_type": "code",
   "execution_count": 9,
   "metadata": {},
   "outputs": [
    {
     "name": "stdout",
     "output_type": "stream",
     "text": [
      "Inertie :  I_lame = 265253 mm4\n",
      "Axe neutre : v_lame = 14 mm\n",
      "Contrainte car. de flexion lame :  f_m_k_lame = 24 N/mm2\n",
      "Masse volumique caractéristique lame :  rho_k_lame = 350 kg/m3\n",
      "G lame : G_lame_ml = 1.42 daN/ml\n",
      "G lame : G_lame_m2 = 9.80 daN/m2\n",
      "\n",
      "\n",
      "Inertie :  I_solive = 22917888 mm4\n",
      "Axe neutre : v_solive = 84 mm\n",
      "Contrainte car. de flexion solive : f_m_k_lame = 24 N/mm2\n",
      "Masse volumique caractéristique solive : rho_k_solive = 350 kg/m3\n",
      "G solive : G_solive = 3.41 daN/ml\n",
      "G solive : G_solive = 6.96 daN/m2\n",
      "\n",
      "\n",
      "Inertie :  I_porteuse = 22917888 mm4\n",
      "Axe neutre : v_porteuse = 84 mm\n",
      "Contrainte car. de flexion solive : f_m_k_porteuse = 24 N/mm2\n",
      "Masse volumique caractéristique porteuse :  rho_k_porteuse = 350 kg/m3\n",
      "G solive : G_solive = 3.41 daN/ml\n",
      "\n",
      "\n"
     ]
    }
   ],
   "source": [
    "##########################################################\n",
    "# CALCUL INTERMEDIAIRE\n",
    "##########################################################\n",
    "\n",
    "# Lame deck\n",
    "I_lame = largeur_lame * hauteur_lame**3. / 12.\n",
    "v_lame = hauteur_lame / 2\n",
    "f_m_k_lame = df.at[\"f_m_k\", classe_resistance_lame]\n",
    "rho_k_lame = df.at[\"rho_k\", classe_resistance_lame]\n",
    "G_lame_ml = largeur_lame / 1000. * hauteur_lame / 1000. * rho_k_lame\n",
    "G_lame_m2 = G_lame_ml / (largeur_lame / 1000.)\n",
    "print(f\"Inertie :  I_lame = {I_lame:.0f} mm4\")\n",
    "print(f\"Axe neutre : v_lame = {v_lame:.0f} mm\")\n",
    "print(f\"Contrainte car. de flexion lame :  f_m_k_lame = {f_m_k_lame:.0f} N/mm2\")\n",
    "print(f\"Masse volumique caractéristique lame :  rho_k_lame = {rho_k_lame:.0f} kg/m3\")\n",
    "print(f\"G lame : G_lame_ml = {G_lame_ml:.2f} daN/ml\")\n",
    "print(f\"G lame : G_lame_m2 = {G_lame_m2:.2f} daN/m2\")\n",
    "print(\"\\n\")\n",
    "\n",
    "# Solive\n",
    "I_solive = largeur_solive * hauteur_solive**3. / 12.\n",
    "v_solive = hauteur_solive / 2.\n",
    "f_m_k_solive = df.at[\"f_m_k\", classe_resistance_solive]\n",
    "rho_k_solive = df.at[\"rho_k\", classe_resistance_solive]\n",
    "nb_solive_ml = 1000 / entre_axe_solive # nb de solive / ml de porteuse\n",
    "G_solive_ml = (largeur_solive / 1000) * (hauteur_solive / 1000.) * rho_k_solive\n",
    "G_solive_m2 = nb_solive_ml * G_solive_ml\n",
    "print(f\"Inertie :  I_solive = {I_solive:.0f} mm4\")\n",
    "print(f\"Axe neutre : v_solive = {v_solive:.0f} mm\")\n",
    "print(f\"Contrainte car. de flexion solive : f_m_k_lame = {f_m_k_solive:.0f} N/mm2\")\n",
    "print(f\"Masse volumique caractéristique solive : rho_k_solive = {rho_k_solive:.0f} kg/m3\")\n",
    "print(f\"G solive : G_solive = {G_solive_ml:.2f} daN/ml\")\n",
    "print(f\"G solive : G_solive = {G_solive_m2:.2f} daN/m2\")\n",
    "print(\"\\n\")\n",
    "\n",
    "# Poutre porteuse\n",
    "I_porteuse = largeur_porteuse * hauteur_porteuse**3. / 12.\n",
    "v_porteuse = hauteur_porteuse / 2\n",
    "f_m_k_porteuse = df.at[\"f_m_k\", classe_resistance_porteuse]\n",
    "rho_k_porteuse = df.at[\"rho_k\", classe_resistance_porteuse]\n",
    "G_porteuse_ml = largeur_porteuse / 1000 * hauteur_porteuse / 1000 * rho_k_porteuse\n",
    "print(f\"Inertie :  I_porteuse = {I_porteuse:.0f} mm4\")\n",
    "print(f\"Axe neutre : v_porteuse = {v_porteuse:.0f} mm\")\n",
    "print(f\"Contrainte car. de flexion solive : f_m_k_porteuse = {f_m_k_porteuse:.0f} N/mm2\")\n",
    "print(f\"Masse volumique caractéristique porteuse :  rho_k_porteuse = {rho_k_porteuse:.0f} kg/m3\")\n",
    "print(f\"G solive : G_solive = {G_porteuse_ml:.2f} daN/ml\")\n",
    "print(\"\\n\")"
   ]
  },
  {
   "cell_type": "markdown",
   "metadata": {},
   "source": [
    "## Vérification porteuse"
   ]
  },
  {
   "cell_type": "code",
   "execution_count": 10,
   "metadata": {},
   "outputs": [
    {
     "name": "stdout",
     "output_type": "stream",
     "text": [
      "Charge permanente : G_tot = 29 daN/ml\n",
      "Charge d'exploitation : Q_tot = 375 daN/ml\n",
      "Combinaison ELS : ELS = 404 daN/ml\n",
      "Combinaison ELU : ELU = 601 daN/ml\n",
      "\n",
      "\n",
      "Moment ELS : Mser = 146 daN/ml\n",
      "Moments ELU : Mu = 217 daN/ml\n",
      "Effort tranchant : Vu = 511 daN/ml\n",
      "\n",
      "\n",
      " : f_m_y_k_porteuse = 24.00 N/mm2\n",
      " : k_mod = 0.55 N/mm2\n",
      " : gamma_M = 1.30 N/mm2\n",
      " : f_m_y_d_porteuse = 10.15 N/mm2\n",
      " : sigma_m_y_d_porteuse = 7.96 N/mm2\n",
      " : sigma_m_y_d_porteuse / f_m_y_d_porteuse = 0.55\n",
      " : sigma_m_y_d_porteuse / f_m_y_d_porteuse <= 1 : True\n",
      "\n",
      "\n"
     ]
    }
   ],
   "source": [
    "# Vérification porteuse en flexion\n",
    "\n",
    "# Chargement porteuse et combinaison\n",
    "G_tot = (G_lame_m2 + G_solive_m2) * (portee_solive / 1000. / 2.) + G_porteuse_ml\n",
    "Q_tot = Q * (portee_solive / 1000. / 2.)\n",
    "Pser = G_tot + Q_tot\n",
    "Pu = 1.35 * G_tot + 1.5 * Q_tot\n",
    "print(f\"Charge permanente : G_tot = {G_tot:.0f} daN/ml\") \n",
    "print(f\"Charge d'exploitation : Q_tot = {Q_tot:.0f} daN/ml\")\n",
    "print(f\"Combinaison ELS : ELS = {Pser:.0f} daN/ml\")\n",
    "print(f\"Combinaison ELU : ELU = {Pu:.0f} daN/ml\")\n",
    "print(\"\\n\")\n",
    "\n",
    "# Sollicitations\n",
    "Mser = Pser * (portee_porteuse / 1000.)**2. / 8.\n",
    "Mu = Pu * (portee_porteuse / 1000.)**2. / 8.\n",
    "Vu = Pu * (portee_porteuse / 1000.) / 2.\n",
    "print(f\"Moment ELS : Mser = {Mser:.0f} daN/ml\") \n",
    "print(f\"Moments ELU : Mu = {Mu:.0f} daN/ml\")\n",
    "print(f\"Effort tranchant : Vu = {Vu:.0f} daN/ml\")\n",
    "print(\"\\n\")\n",
    "\n",
    "# Vérification flexion\n",
    "sigma_m_y_d_porteuse = (Mu*10*1000) * v_porteuse / I_porteuse\n",
    "k_mod = 0.55 # classe de service 3\n",
    "gamma_M = 1.3 # Bois massif\n",
    "km = 0.7\n",
    "f_m_y_d_porteuse = k_mod * f_m_k_porteuse / gamma_M\n",
    "test_1 = km * sigma_m_y_d_porteuse / f_m_y_d_porteuse\n",
    "verif_1 = test_1 <= 1\n",
    "print(f\" : f_m_y_k_porteuse = {f_m_k_porteuse:.2f} N/mm2\") \n",
    "print(f\" : k_mod = {k_mod:.2f} N/mm2\") \n",
    "print(f\" : gamma_M = {gamma_M:.2f} N/mm2\") \n",
    "print(f\" : f_m_y_d_porteuse = {f_m_y_d_porteuse:.2f} N/mm2\") \n",
    "print(f\" : sigma_m_y_d_porteuse = {sigma_m_y_d_porteuse:.2f} N/mm2\") \n",
    "print(f\" : sigma_m_y_d_porteuse / f_m_y_d_porteuse = {test_1:.2f}\") \n",
    "print(f\" : sigma_m_y_d_porteuse / f_m_y_d_porteuse <= 1 : {verif_1}\") \n",
    "print(\"\\n\")"
   ]
  },
  {
   "cell_type": "markdown",
   "metadata": {},
   "source": []
  },
  {
   "cell_type": "markdown",
   "metadata": {},
   "source": [
    "## Vérification solive"
   ]
  },
  {
   "cell_type": "code",
   "execution_count": 11,
   "metadata": {},
   "outputs": [
    {
     "name": "stdout",
     "output_type": "stream",
     "text": [
      "Charge permanente : G_tot = 8 daN/ml\n",
      "Charge d'exploitation : Q_tot = 122 daN/ml\n",
      "Combinaison ELS : ELS = 131 daN/ml\n",
      "Combinaison ELU : ELU = 195 daN/ml\n",
      "\n",
      "\n",
      "Sollicitation\n",
      "Moment ELS : Mser = 147 daN/ml\n",
      "Moments ELU : Mu = 219 daN/ml\n",
      "Effort tranchant : Vu = 292 daN/ml\n",
      "\n",
      "\n",
      " : f_m_y_k_solive = 24.00 N/mm2\n",
      " : k_mod = 0.55 N/mm2\n",
      " : gamma_M = 1.30 N/mm2\n",
      " : f_m_y_d_solive = 10.15 N/mm2\n",
      " : sigma_m_y_d_solive = 8.03 N/mm2\n",
      " : sigma_m_y_d_solive / f_m_y_d_solive = 0.55\n",
      " : sigma_m_y_d_solive / f_m_y_d_solive <= 1 : True\n"
     ]
    }
   ],
   "source": [
    "# Vérification solive en flexion\n",
    "\n",
    "# Chargement solive\n",
    "G_tot = G_lame_m2 * (entre_axe_solive / 1000.) + G_solive_ml\n",
    "Q_tot = Q * (entre_axe_solive / 1000.)\n",
    "Pser = G_tot + Q_tot\n",
    "Pu = 1.35 * G_tot + 1.5 * Q_tot\n",
    "print(f\"Charge permanente : G_tot = {G_tot:.0f} daN/ml\") \n",
    "print(f\"Charge d'exploitation : Q_tot = {Q_tot:.0f} daN/ml\")\n",
    "print(f\"Combinaison ELS : ELS = {Pser:.0f} daN/ml\")\n",
    "print(f\"Combinaison ELU : ELU = {Pu:.0f} daN/ml\")\n",
    "print(\"\\n\")\n",
    "\n",
    "# Sollicitation\n",
    "Mser = Pser * (portee_solive / 1000.)**2. / 8.\n",
    "Mu = Pu * (portee_solive/ 1000.)**2. / 8.\n",
    "Vu = Pu * (portee_solive / 1000.) / 2.\n",
    "print('Sollicitation')\n",
    "print(f\"Moment ELS : Mser = {Mser:.0f} daN/ml\") \n",
    "print(f\"Moments ELU : Mu = {Mu:.0f} daN/ml\")\n",
    "print(f\"Effort tranchant : Vu = {Vu:.0f} daN/ml\")\n",
    "print(\"\\n\")\n",
    "\n",
    "\n",
    "# Vérification flexion\n",
    "sigma_m_y_d_solive = (Mu*10*1000) * v_solive / I_solive\n",
    "k_mod = 0.55 # classe de service 3\n",
    "gamma_M = 1.3 # Bois massif\n",
    "f_m_y_d_solive = k_mod * f_m_k_solive / gamma_M\n",
    "km = 0.7\n",
    "test_1 = km * sigma_m_y_d_solive / f_m_y_d_solive\n",
    "verif_1 = test_1 <= 1\n",
    "print(f\" : f_m_y_k_solive = {f_m_k_solive:.2f} N/mm2\") \n",
    "print(f\" : k_mod = {k_mod:.2f} N/mm2\") \n",
    "print(f\" : gamma_M = {gamma_M:.2f} N/mm2\") \n",
    "print(f\" : f_m_y_d_solive = {f_m_y_d_solive:.2f} N/mm2\") \n",
    "print(f\" : sigma_m_y_d_solive = {sigma_m_y_d_solive:.2f} N/mm2\") \n",
    "print(f\" : sigma_m_y_d_solive / f_m_y_d_solive = {test_1:.2f}\") \n",
    "print(f\" : sigma_m_y_d_solive / f_m_y_d_solive <= 1 : {verif_1}\") "
   ]
  },
  {
   "cell_type": "markdown",
   "metadata": {},
   "source": [
    "## Vérification lame deck"
   ]
  },
  {
   "cell_type": "code",
   "execution_count": 12,
   "metadata": {},
   "outputs": [
    {
     "name": "stdout",
     "output_type": "stream",
     "text": [
      "Charge permanente : G_tot = 1 daN/ml\n",
      "Charge d'exploitation : Q_tot = 36 daN/ml\n",
      "Combinaison ELS : ELS = 38 daN/ml\n",
      "Combinaison ELU : ELU = 56 daN/ml\n",
      "\n",
      "\n",
      "Sollicitation\n",
      "Moment ELS : Mser = 1 daN/ml\n",
      "Moments ELU : Mu = 2 daN/ml\n",
      "Effort tranchant : Vu = 14 daN/ml\n",
      "\n",
      "\n",
      " : f_m_y_k_lame = 24.00 N/mm2\n",
      " : k_mod = 0.55 N/mm2\n",
      " : gamma_M = 1.30 N/mm2\n",
      " : f_m_y_d_lame = 10.15 N/mm2\n",
      " : sigma_m_y_d_lame = 7.96 N/mm2\n",
      " : sigma_m_y_d_lame / f_m_y_d_lame = 0.06\n",
      " : sigma_m_y_d_lame / f_m_y_d_lame <= 1 : True\n"
     ]
    }
   ],
   "source": [
    "# Vérification solive en flexion\n",
    "\n",
    "# Chargement solive\n",
    "G_tot = G_lame_ml\n",
    "Q_tot = Q * (largeur_lame / 1000.)\n",
    "Pser = G_tot + Q_tot\n",
    "Pu = 1.35 * G_tot + 1.5 * Q_tot\n",
    "print(f\"Charge permanente : G_tot = {G_tot:.0f} daN/ml\") \n",
    "print(f\"Charge d'exploitation : Q_tot = {Q_tot:.0f} daN/ml\")\n",
    "print(f\"Combinaison ELS : ELS = {Pser:.0f} daN/ml\")\n",
    "print(f\"Combinaison ELU : ELU = {Pu:.0f} daN/ml\")\n",
    "print(\"\\n\")\n",
    "\n",
    "# Sollicitation\n",
    "Mser = Pser * (entre_axe_solive / 1000.)**2. / 8.\n",
    "Mu = Pu * (entre_axe_solive/ 1000.)**2. / 8.\n",
    "Vu = Pu * (entre_axe_solive / 1000.) / 2.\n",
    "print('Sollicitation')\n",
    "print(f\"Moment ELS : Mser = {Mser:.0f} daN/ml\") \n",
    "print(f\"Moments ELU : Mu = {Mu:.0f} daN/ml\")\n",
    "print(f\"Effort tranchant : Vu = {Vu:.0f} daN/ml\")\n",
    "print(\"\\n\")\n",
    "\n",
    "\n",
    "# Vérification flexion\n",
    "sigma_m_y_d_lame = (Mu*10*1000) * v_lame / I_lame\n",
    "k_mod = 0.55 # classe de service 3\n",
    "gamma_M = 1.3 # Bois massif\n",
    "f_m_y_d_lame = k_mod * f_m_k_lame / gamma_M\n",
    "km = 0.7\n",
    "test_1 = km * sigma_m_y_d_lame / f_m_y_d_lame\n",
    "verif_1 = test_1 <= 1\n",
    "print(f\" : f_m_y_k_lame = {f_m_k_lame:.2f} N/mm2\") \n",
    "print(f\" : k_mod = {k_mod:.2f} N/mm2\") \n",
    "print(f\" : gamma_M = {gamma_M:.2f} N/mm2\") \n",
    "print(f\" : f_m_y_d_lame = {f_m_y_d_lame:.2f} N/mm2\") \n",
    "print(f\" : sigma_m_y_d_lame = {sigma_m_y_d_porteuse:.2f} N/mm2\") \n",
    "print(f\" : sigma_m_y_d_lame / f_m_y_d_lame = {test_1:.2f}\") \n",
    "print(f\" : sigma_m_y_d_lame / f_m_y_d_lame <= 1 : {verif_1}\") "
   ]
  },
  {
   "cell_type": "markdown",
   "metadata": {},
   "source": []
  }
 ],
 "metadata": {
  "kernelspec": {
   "display_name": "Python 3",
   "language": "python",
   "name": "python3"
  },
  "language_info": {
   "codemirror_mode": {
    "name": "ipython",
    "version": 3
   },
   "file_extension": ".py",
   "mimetype": "text/x-python",
   "name": "python",
   "nbconvert_exporter": "python",
   "pygments_lexer": "ipython3",
   "version": "3.10.2"
  }
 },
 "nbformat": 4,
 "nbformat_minor": 2
}
