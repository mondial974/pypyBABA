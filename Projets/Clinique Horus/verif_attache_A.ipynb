{
 "cells": [
  {
   "cell_type": "markdown",
   "metadata": {},
   "source": [
    "Import des modules"
   ]
  },
  {
   "cell_type": "code",
   "execution_count": 1,
   "metadata": {},
   "outputs": [],
   "source": [
    "from pyEurocode5.pyEC5matbois import *\n",
    "from pyEurocode5.pyEC5_app_assemblage_bois_metal_boulon import *\n",
    "from math import radians, sin, cos, sqrt, ceil, pi\n",
    "import pandas as pd"
   ]
  },
  {
   "cell_type": "markdown",
   "metadata": {},
   "source": [
    "Données d'entrée"
   ]
  },
  {
   "cell_type": "code",
   "execution_count": 2,
   "metadata": {},
   "outputs": [],
   "source": [
    "# POUTRE\n",
    "largeur_poutre = 160.   # mm\n",
    "hauteur_poutre = 600.   # mm\n",
    "\n",
    "# BOIS\n",
    "t1 = largeur_poutre / 2.\n",
    "classe_resistance_bois =  'GL28h'\n",
    "nature_bois = 'résineux'\n",
    "bois = Bois(nature_bois=nature_bois, classe_resistance_bois=classe_resistance_bois)\n",
    "\n",
    "# PLAQUE METALLIQUE\n",
    "epaisseur_plaque = 8. # mm\n",
    "\n",
    "# BOULONS\n",
    "reference_boulon = 'M10'\n",
    "classe_resistance_boulon = '6.8'\n",
    "\n",
    "# ASSEMBLAGE\n",
    "type_assemblage = 'interne'\n",
    "    \n",
    "# EFFORT\n",
    "FvEd = 8200 # N\n",
    "alpha = 0. # deg"
   ]
  },
  {
   "cell_type": "markdown",
   "metadata": {},
   "source": [
    "Calcul"
   ]
  },
  {
   "cell_type": "code",
   "execution_count": 3,
   "metadata": {},
   "outputs": [
    {
     "name": "stdout",
     "output_type": "stream",
     "text": [
      "Bois\n",
      "Résistance car. en compression transveral : f_c,90,k = 2.5 MPa\n",
      "Masse volumique car. : rho_k = 425 MPa\n",
      "Portance local car. du bois : f_h,k = 31.37 MPa\n",
      "Épaisseur bois latéral : t_1 = 80 mm\n",
      "\n",
      "Plaque\n",
      "Type de palque : plaque intermédiaire\n",
      "\n",
      "Boulon\n",
      "Diamètre du boulon : d = 10 mm\n",
      "Diamètre intérieur rondelle : d_int = 10 mm\n",
      "Diamètre extérieur rondelle : d_ext = 20 mm\n",
      "Résistance ultime du boulon en traction : f_ub = 600 MPa\n",
      "Moment d'écoulement plastique du boulon : M_y,Rk = 71659 N.mm\n",
      "\n",
      "Assemblage\n",
      "Capacité car. arrachement axial du boulon : d = 1707 N\n",
      "Capacité résistante car. : F_v,Rk = 11331 N.mm\n",
      "Nombre de boulon dans une file : n = 1.00\n",
      "Nombre de boulon efficace minimum : n_ef = 1.00\n",
      "\n",
      "Espacements et distances minimal.es pour les boulons\n",
      "a_1 = 50 mm\n",
      "a_2 = 40 mm\n",
      "a_3,t = 80 mm\n"
     ]
    },
    {
     "ename": "TypeError",
     "evalue": "unsupported format string passed to NoneType.__format__",
     "output_type": "error",
     "traceback": [
      "\u001b[1;31m---------------------------------------------------------------------------\u001b[0m",
      "\u001b[1;31mTypeError\u001b[0m                                 Traceback (most recent call last)",
      "Input \u001b[1;32mIn [3]\u001b[0m, in \u001b[0;36m<module>\u001b[1;34m\u001b[0m\n\u001b[0;32m     57\u001b[0m \u001b[38;5;28mprint\u001b[39m(\u001b[38;5;124mf\u001b[39m\u001b[38;5;124m\"\u001b[39m\u001b[38;5;124ma_2 = \u001b[39m\u001b[38;5;132;01m{\u001b[39;00ma2\u001b[38;5;132;01m:\u001b[39;00m\u001b[38;5;124m.0f\u001b[39m\u001b[38;5;132;01m}\u001b[39;00m\u001b[38;5;124m mm\u001b[39m\u001b[38;5;124m\"\u001b[39m)\n\u001b[0;32m     58\u001b[0m \u001b[38;5;28mprint\u001b[39m(\u001b[38;5;124mf\u001b[39m\u001b[38;5;124m\"\u001b[39m\u001b[38;5;124ma_3,t = \u001b[39m\u001b[38;5;132;01m{\u001b[39;00ma3t\u001b[38;5;132;01m:\u001b[39;00m\u001b[38;5;124m.0f\u001b[39m\u001b[38;5;132;01m}\u001b[39;00m\u001b[38;5;124m mm\u001b[39m\u001b[38;5;124m\"\u001b[39m)\n\u001b[1;32m---> 59\u001b[0m \u001b[38;5;28mprint\u001b[39m(\u001b[38;5;124mf\u001b[39m\u001b[38;5;124m\"\u001b[39m\u001b[38;5;124ma_3,c = \u001b[39m\u001b[38;5;132;01m{\u001b[39;00ma3c\u001b[38;5;132;01m:\u001b[39;00m\u001b[38;5;124m.0f\u001b[39m\u001b[38;5;132;01m}\u001b[39;00m\u001b[38;5;124m mm\u001b[39m\u001b[38;5;124m\"\u001b[39m)\n\u001b[0;32m     60\u001b[0m \u001b[38;5;28mprint\u001b[39m(\u001b[38;5;124mf\u001b[39m\u001b[38;5;124m\"\u001b[39m\u001b[38;5;124ma_4,t = \u001b[39m\u001b[38;5;132;01m{\u001b[39;00ma3t\u001b[38;5;132;01m:\u001b[39;00m\u001b[38;5;124m.0f\u001b[39m\u001b[38;5;132;01m}\u001b[39;00m\u001b[38;5;124m mm\u001b[39m\u001b[38;5;124m\"\u001b[39m)\n\u001b[0;32m     61\u001b[0m \u001b[38;5;28mprint\u001b[39m(\u001b[38;5;124mf\u001b[39m\u001b[38;5;124m\"\u001b[39m\u001b[38;5;124ma_4,c = \u001b[39m\u001b[38;5;132;01m{\u001b[39;00ma4c\u001b[38;5;132;01m:\u001b[39;00m\u001b[38;5;124m.0f\u001b[39m\u001b[38;5;132;01m}\u001b[39;00m\u001b[38;5;124m mm\u001b[39m\u001b[38;5;124m\"\u001b[39m)\n",
      "\u001b[1;31mTypeError\u001b[0m: unsupported format string passed to NoneType.__format__"
     ]
    }
   ],
   "source": [
    "# Boulon\n",
    "d = diametre_boulon(reference_boulon)\n",
    "dint = dint_rondelle(reference_boulon)\n",
    "dext = dext_rondelle(reference_boulon)\n",
    "fub = f_ub(classe_resistance_boulon)\n",
    "MyRk = M_y_Rk(fub, d)\n",
    "\n",
    "# Bois\n",
    "fc90k = bois.f_c_90_k()\n",
    "rhok = bois.rho_k()\n",
    "k90 = k_90(nature_bois, d)\n",
    "fh0k = f_h_0_k(d, rhok)\n",
    "fhalphak = f_h_alpha_k(fh0k, alpha, k90)\n",
    "fh1k = fhalphak\n",
    "\n",
    "# Plaque\n",
    "typeplaque = type_plaque(epaisseur_plaque, d)\n",
    "\n",
    "# Assemblage\n",
    "FaxRk = F_ax_Rk(fc90k, dint, dext)\n",
    "FvRk = F_v_Rk(typeplaque=typeplaque, epaisseurplaque=epaisseur_plaque, d=d, t1=t1, t2=0, fhk=0, fh1k=fh1k, fh2k=0, MyRk=MyRk, FaxRk=FaxRk, typeassemblage=type_assemblage)\n",
    "n = ceil(FvEd / FvRk)\n",
    "n_ef = n # Charge perpendiculaire au fil du bois\n",
    "\n",
    "# Espacements et distances minimales pour les boulons\n",
    "a1 =  a1_boulon(alpha, d)\n",
    "a2 =  a2_boulon(d)\n",
    "a3t = a3t_boulon(d)\n",
    "a3c = a3c_boulon(alpha, d)\n",
    "a4t = a4t_boulon(alpha, d)\n",
    "a4c = a4c_boulon(d)\n",
    "\n",
    "print('Bois')\n",
    "print(f\"Résistance car. en compression transveral : f_c,90,k = {fc90k} MPa\")\n",
    "print(f\"Masse volumique car. : rho_k = {rhok:.0f} MPa\")\n",
    "print(f\"Portance local car. du bois : f_h,k = {fh1k:.2f} MPa\")\n",
    "print(f\"Épaisseur bois latéral : t_1 = {t1:.0f} mm\")\n",
    "\n",
    "print('\\nPlaque')\n",
    "print(f\"Type de palque : {typeplaque}\")\n",
    "\n",
    "print('\\nBoulon')\n",
    "print(f\"Diamètre du boulon : d = {d:.0f} mm\")\n",
    "print(f\"Diamètre intérieur rondelle : d_int = {dint:.0f} mm\")\n",
    "print(f\"Diamètre extérieur rondelle : d_ext = {dext:.0f} mm\")\n",
    "print(f\"Résistance ultime du boulon en traction : f_ub = {fub:.0f} MPa\")\n",
    "print(f\"Moment d'écoulement plastique du boulon : M_y,Rk = {MyRk:.0f} N.mm\")\n",
    "\n",
    "print('\\nAssemblage')\n",
    "print(f\"Capacité car. arrachement axial du boulon : d = {FaxRk:.0f} N\")\n",
    "print(f\"Capacité résistante car. : F_v,Rk = {FvRk:.0f} N.mm\")\n",
    "print(f\"Nombre de boulon dans une file : n = {n:.2f}\")\n",
    "print(f\"Nombre de boulon efficace minimum : n_ef = {n_ef:.2f}\")\n",
    "\n",
    "print('\\nEspacements et distances minimal.es pour les boulons')\n",
    "print(f\"a_1 = {a1:.0f} mm\")\n",
    "print(f\"a_2 = {a2:.0f} mm\")\n",
    "print(f\"a_3,t = {a3t:.0f} mm\")\n",
    "print(f\"a_3,c = {a3c:.0f} mm\")\n",
    "print(f\"a_4,t = {a3t:.0f} mm\")\n",
    "print(f\"a_4,c = {a4c:.0f} mm\")"
   ]
  }
 ],
 "metadata": {
  "kernelspec": {
   "display_name": "Python 3",
   "language": "python",
   "name": "python3"
  },
  "language_info": {
   "codemirror_mode": {
    "name": "ipython",
    "version": 3
   },
   "file_extension": ".py",
   "mimetype": "text/x-python",
   "name": "python",
   "nbconvert_exporter": "python",
   "pygments_lexer": "ipython3",
   "version": "3.10.2"
  }
 },
 "nbformat": 4,
 "nbformat_minor": 2
}
