{
 "cells": [
  {
   "cell_type": "code",
   "execution_count": 3,
   "metadata": {},
   "outputs": [],
   "source": [
    "from pyEurocode5.pyEC5_app_assemblage_bois_metal_boulon import *"
   ]
  },
  {
   "cell_type": "code",
   "execution_count": 4,
   "metadata": {},
   "outputs": [
    {
     "name": "stdout",
     "output_type": "stream",
     "text": [
      "\n",
      "Espacements et distances minimal.es pour les boulons\n",
      "a_1 = 50 mm\n",
      "a_2 = 40 mm\n",
      "a_3,t = 80 mm\n",
      "a_3,c = 0 mm\n",
      "a_4,t = 80 mm\n",
      "a_4,c = 30 mm\n"
     ]
    }
   ],
   "source": [
    "# Donnee d'entrée\n",
    "alpha = 0 # deg\n",
    "d = 10 # mm\n",
    "\n",
    "# Espacements et distances minimales pour les boulons\n",
    "a1 =  a1_boulon(alpha, d)\n",
    "a2 =  a2_boulon(d)\n",
    "a3t = a3t_boulon(d)\n",
    "a3c = a3c_boulon(alpha, d)\n",
    "a4t = a4t_boulon(alpha, d)\n",
    "a4c = a4c_boulon(d)\n",
    "\n",
    "print('\\nEspacements et distances minimal.es pour les boulons')\n",
    "print(f\"a_1 = {a1:.0f} mm\")\n",
    "print(f\"a_2 = {a2:.0f} mm\")\n",
    "print(f\"a_3,t = {a3t:.0f} mm\")\n",
    "print(f\"a_3,c = {a3c:.0f} mm\")\n",
    "print(f\"a_4,t = {a3t:.0f} mm\")\n",
    "print(f\"a_4,c = {a4c:.0f} mm\")"
   ]
  }
 ],
 "metadata": {
  "kernelspec": {
   "display_name": "Python 3",
   "language": "python",
   "name": "python3"
  },
  "language_info": {
   "codemirror_mode": {
    "name": "ipython",
    "version": 3
   },
   "file_extension": ".py",
   "mimetype": "text/x-python",
   "name": "python",
   "nbconvert_exporter": "python",
   "pygments_lexer": "ipython3",
   "version": "3.10.2"
  }
 },
 "nbformat": 4,
 "nbformat_minor": 2
}
